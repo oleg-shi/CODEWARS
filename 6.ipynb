{
 "cells": [
  {
   "cell_type": "markdown",
   "metadata": {},
   "source": [
    "### Find The Parity Outlier [6]\n",
    "You are given an array (which will have a length of at least 3, but could be very large) containing integers. The array is either entirely comprised of odd integers or entirely comprised of even integers except for a single integer N. Write a method that takes the array as an argument and returns this \"outlier\" N.\n",
    "\n",
    "[2, 4, 0, 100, 4, 11, 2602, 36]\n",
    "Should return: **11** (the only odd number)\n",
    "\n",
    "[160, 3, 1719, 19, 11, 13, -21]\n",
    "Should return: **160** (the only even number)"
   ]
  },
  {
   "cell_type": "code",
   "execution_count": null,
   "metadata": {},
   "outputs": [],
   "source": [
    "def find_outlier(integers):\n",
    "    if (integers[0] % 2 + integers[1] % 2 + integers[2] % 2) < 2: f = 0\n",
    "    if (integers[0] % 2 + integers[1] % 2 + integers[2] % 2) > 1: f = 1  \n",
    "    for i in range(len(integers)):\n",
    "        if (f == 0 and integers[i] % 2 != 0) or (f == 1 and integers[i] % 2 == 0):\n",
    "            return integers[i]"
   ]
  },
  {
   "cell_type": "markdown",
   "metadata": {},
   "source": [
    "### Build a pile of Cubes [6]\n",
    "\n",
    "Your task is to construct a building which will be a pile of $n$ cubes. The cube at the bottom will have a volume of $n^3$, the cube above will have volume of $(n-1)^3$ and so on until the top which will have a volume of $1^3$.\n",
    "\n",
    "You are given the total volume m of the building. Being given m can you find the number n of cubes you will have to build?\n",
    "\n",
    "The parameter of the function **find_nb** will be an integer m and you have to return the integer n such as $n^3 + (n-1)^3 + ... + 1^3 = m$,  \n",
    "if such a n exists or -1 if there is no such $n$."
   ]
  },
  {
   "cell_type": "code",
   "execution_count": null,
   "metadata": {},
   "outputs": [],
   "source": [
    "def find_nb(m):\n",
    "    n = 0\n",
    "    while m != 0:\n",
    "        n += 1\n",
    "        m -= n**3\n",
    "        if m < 0: return -1\n",
    "    return n  "
   ]
  },
  {
   "cell_type": "markdown",
   "metadata": {},
   "source": [
    "### Persistent Bugger [6]\n",
    "\n",
    "Write a function, **persistence**, that takes in a positive parameter num and returns its multiplicative persistence, which is the number of times you must multiply the digits in num until you reach a single digit.\n",
    "\n",
    "persistence(39)  => **3**   #  Because 3$*$9 = 27, 2$*$7 = 14, 1$*$4=4,  and 4 has only one digit                \n",
    "persistence(999) => **4**   #  Because 9$*$9$*$9 = 729, 7$*$2$*$9 = 126, 1$*$2$*$6 = 12,  and finally 1$*$2 = 2             \n",
    "persistence(4)   => **0**   #  Because 4 is already a one-digit number.      "
   ]
  },
  {
   "cell_type": "code",
   "execution_count": null,
   "metadata": {},
   "outputs": [],
   "source": [
    "def persistence(n):\n",
    "    total = 1\n",
    "    count = 0\n",
    "    while n > 9:  \n",
    "        while n != 0:\n",
    "            total *= n % 10\n",
    "            n //= 10\n",
    "        n, total = total, 1\n",
    "        count += 1\n",
    "    return count"
   ]
  },
  {
   "cell_type": "markdown",
   "metadata": {},
   "source": [
    "### Is a number prime? [6]\n",
    "\n",
    "Define a function that takes one integer argument and returns logical value true or false depending on if the integer is a prime (per Wikipedia, a prime number (or a prime) is a natural number greater than 1 that has no positive divisors other than 1 and itself)\n",
    "\n",
    "Requirements\n",
    "You can assume you will be given an integer input.\n",
    "You can not assume that the integer will be only positive. You may be given negative numbers as well (or 0).\n",
    "NOTE on performance: There are no fancy optimizations required, but still the most trivial solutions might time out. Numbers go up to 2^31 (or similar, depends on language version). Looping all the way up to n, or n/2, will be too slow."
   ]
  },
  {
   "cell_type": "code",
   "execution_count": null,
   "metadata": {},
   "outputs": [],
   "source": [
    "def is_prime(num):\n",
    "    f = 1\n",
    "    if num <= 0: return False\n",
    "    for i in range(2, int(num ** 0.5) + 1):\n",
    "        if num % i == 0: f = 0\n",
    "    return num > 1 and f == 1\n",
    "\n",
    "print(is_prime(0))"
   ]
  },
  {
   "cell_type": "markdown",
   "metadata": {},
   "source": [
    "### Highest Scoring Word [6]\n",
    "\n",
    "Given a string of words, you need to find the highest scoring word. Each letter of a word scores points according to its position in the alphabet: a = 1, b = 2, c = 3 etc.  \n",
    "You need to return the highest scoring word as a string.\n",
    "If two words score the same, return the word that appears earliest in the original string. All letters will be lowercase."
   ]
  },
  {
   "cell_type": "code",
   "execution_count": null,
   "metadata": {},
   "outputs": [],
   "source": [
    "def high(x):\n",
    "    cur, total, result = 0, 0, ''\n",
    "    for word in x.split():\n",
    "        for c in word:\n",
    "            cur += (ord(c) - 96)  \n",
    "        if cur > total:\n",
    "            total = cur\n",
    "            result = word\n",
    "        cur = 0\n",
    "    return result"
   ]
  },
  {
   "cell_type": "markdown",
   "metadata": {},
   "source": [
    "### Find the odd int [6]\n",
    "\n",
    "Given an array of integers, find the one that appears an odd number of times.\n",
    "\n",
    "There will always be only one integer that appears an odd number of times."
   ]
  },
  {
   "cell_type": "code",
   "execution_count": null,
   "metadata": {},
   "outputs": [],
   "source": [
    "def find_it(seq):\n",
    "    for i in seq:\n",
    "        if seq.count(i) % 2 != 0: \n",
    "            return i"
   ]
  },
  {
   "cell_type": "markdown",
   "metadata": {},
   "source": [
    "### Stop gninnipS My sdroW! [6]\n",
    "\n",
    "Write a function that takes in a string of one or more words, and returns the same string, but with all five or more letter words reversed (Just like the name of this Kata). Strings passed in will consist of only letters and spaces. Spaces will be included only when more than one word is present.\n",
    "\n",
    "Examples:   \n",
    "spin_words( \"Hey fellow warriors\" ) => returns \"Hey wollef sroirraw\"   \n",
    "spin_words( \"This is a test\") => returns \"This is a test\"   \n",
    "spin_words( \"This is another test\" )=> returns \"This is rehtona test\""
   ]
  },
  {
   "cell_type": "code",
   "execution_count": null,
   "metadata": {},
   "outputs": [],
   "source": [
    "def spin_words(sentence):\n",
    "    return ' '.join([x[::-1] if len(x) > 4 else x  for x in sentence.split()])"
   ]
  },
  {
   "cell_type": "markdown",
   "metadata": {},
   "source": [
    "### Counting Duplicates [6]\n",
    "\n",
    "Write a function that will return the count of distinct case-insensitive alphabetic characters and numeric digits that occur more than once in the input string. The input string can be assumed to contain only alphabets (both uppercase and lowercase) and numeric digits.\n",
    "\n",
    "Example  \n",
    "\"abcde\" -> 0 # no characters repeats more than once  \n",
    "\"aabbcde\" -> 2 # 'a' and 'b'  \n",
    "\"aabBcde\" -> 2 # 'a' occurs twice and 'b' twice (`b` and `B`)  \n",
    "\"indivisibility\" -> 1 # 'i' occurs six times  \n",
    "\"Indivisibilities\" -> 2 # 'i' occurs seven times and 's' occurs twice  \n",
    "\"aA11\" -> 2 # 'a' and '1'  \n",
    "\"ABBA\" -> 2 # 'A' and 'B' each occur twice  "
   ]
  },
  {
   "cell_type": "code",
   "execution_count": null,
   "metadata": {},
   "outputs": [],
   "source": [
    "def duplicate_count(text):\n",
    "    s = set()\n",
    "    for c in text.lower(): \n",
    "        if text.lower().count(c) > 1: \n",
    "            s.add(c)\n",
    "    return len(s)"
   ]
  },
  {
   "cell_type": "markdown",
   "metadata": {},
   "source": [
    "### Who likes it? [6]\n",
    "\n",
    "You probably know the \"like\" system from Facebook and other pages. People can \"like\" blog posts, pictures or other items. We want to create the text that should be displayed next to such an item.\n",
    "\n",
    "Implement a function likes :: [String] -> String, which must take in input array, containing the names of people who like an item. It must return the display text as shown in the examples:\n",
    "\n",
    "likes([ ]) # must be \"no one likes this\"  \n",
    "likes([\"Peter\"]) # must be \"Peter likes this\"  \n",
    "likes([\"Jacob\", \"Alex\"]) # must be \"Jacob and Alex like this\"  \n",
    "likes([\"Max\", \"John\", \"Mark\"]) # must be \"Max, John and Mark like this\"  \n",
    "likes([\"Alex\", \"Jacob\", \"Mark\", \"Max\"]) # must be \"Alex, Jacob and 2 others like this\"  \n",
    "\n",
    "For 4 or more names, the number in and 2 others simply increases."
   ]
  },
  {
   "cell_type": "code",
   "execution_count": null,
   "metadata": {},
   "outputs": [],
   "source": [
    "def likes(names):\n",
    "    if names: \n",
    "        if len(names) == 1:   return f'{names[0]} likes this'\n",
    "        elif len(names) == 2: return f'{names[0]} and {names[1]} like this'\n",
    "        elif len(names) == 3: return f'{names[0]}, {names[1]} and {names[2]} like this'\n",
    "        else:                 return f'{names[0]}, {names[1]} and {len(names) - 2} others like this'      \n",
    "    else: return 'no one likes this'"
   ]
  },
  {
   "cell_type": "markdown",
   "metadata": {},
   "source": [
    "### Create Phone Number [6]\n",
    "\n",
    "Write a function that accepts an array of 10 integers (between 0 and 9), that returns a string of those numbers in the form of a phone number.\n",
    "\n",
    "Example:\n",
    "create_phone_number([1, 2, 3, 4, 5, 6, 7, 8, 9, 0]) # => returns \"(123) 456-7890\"  \n",
    "The returned format must be correct in order to complete this challenge.\n",
    "Don't forget the space after the closing parentheses!"
   ]
  },
  {
   "cell_type": "code",
   "execution_count": null,
   "metadata": {},
   "outputs": [],
   "source": [
    "def create_phone_number(n):\n",
    "    return f'({n[0]}{n[1]}{n[2]}) {n[3]}{n[4]}{n[5]}-{n[6]}{n[7]}{n[8]}{n[9]}'"
   ]
  },
  {
   "cell_type": "markdown",
   "metadata": {},
   "source": [
    "### Take a Ten Minute Walk [6]\n",
    "\n",
    "You live in the city of Cartesia where all roads are laid out in a perfect grid. You arrived ten minutes too early to an appointment, so you decided to take the opportunity to go for a short walk. The city provides its citizens with a Walk Generating App on their phones -- everytime you press the button it sends you an array of one-letter strings representing directions to walk (eg. ['n', 's', 'w', 'e']). You always walk only a single block for each letter (direction) and you know it takes you one minute to traverse one city block, so create a function that will return true if the walk the app gives you will take you exactly ten minutes (you don't want to be early or late!) and will, of course, return you to your starting point. Return false otherwise.\n",
    "\n",
    "*Note: you will always receive a valid array containing a random assortment of direction letters ('n', 's', 'e', or 'w' only). It will never give you an empty array (that's not a walk, that's standing still!).*"
   ]
  },
  {
   "cell_type": "code",
   "execution_count": null,
   "metadata": {},
   "outputs": [],
   "source": [
    "def is_valid_walk(walk):\n",
    "    return sum(list(map(ord, walk))) in [1100, 1105, 1110, 1115, 1120, 1125] and walk.count('n') == walk.count('s')"
   ]
  },
  {
   "cell_type": "markdown",
   "metadata": {},
   "source": [
    "### Bit Counting [6]\n",
    "\n",
    "Write a function that takes an integer as input, and returns the number of bits that are equal to one in the binary representation of that number. You can guarantee that input is non-negative.\n",
    "\n",
    "*Example: The binary representation of 1234 is 10011010010, so the function should return 5 in this case*"
   ]
  },
  {
   "cell_type": "code",
   "execution_count": null,
   "metadata": {},
   "outputs": [],
   "source": [
    "def count_bits(n):\n",
    "    return bin(n)[2:].count('1')"
   ]
  },
  {
   "cell_type": "markdown",
   "metadata": {},
   "source": [
    "### Array.diff [6]\n",
    "\n",
    "Your goal in this kata is to implement a difference function, which subtracts one list from another and returns the result.\n",
    "\n",
    "It should remove all values from list **a**, which are present in list **b**.\n",
    "\n",
    "array_diff([1,2],[1]) == [2]  \n",
    "If a value is present in **b**, all of its occurrences must be removed from the other:\n",
    "\n",
    "array_diff([1,2,2,2,3],[2]) == [1,3]  "
   ]
  },
  {
   "cell_type": "code",
   "execution_count": null,
   "metadata": {},
   "outputs": [],
   "source": [
    "def array_diff(a, b):\n",
    "    return [x for x in a if x not in b]"
   ]
  }
 ],
 "metadata": {
  "kernelspec": {
   "display_name": "Python 3",
   "language": "python",
   "name": "python3"
  },
  "language_info": {
   "codemirror_mode": {
    "name": "ipython",
    "version": 3
   },
   "file_extension": ".py",
   "mimetype": "text/x-python",
   "name": "python",
   "nbconvert_exporter": "python",
   "pygments_lexer": "ipython3",
   "version": "3.8.3"
  }
 },
 "nbformat": 4,
 "nbformat_minor": 4
}
