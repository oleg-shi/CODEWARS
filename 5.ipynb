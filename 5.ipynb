{
 "cells": [
  {
   "cell_type": "markdown",
   "metadata": {},
   "source": [
    "### Moving Zeros To The End [5]\n",
    "\n",
    "Write an algorithm that takes an array and moves all of the zeros to the end, preserving the order of the other elements.\n",
    "\n",
    "move_zeros([False,1,0,1,2,0,1,3,\"a\"])    # returns[False,1,1,2,1,3,\"a\",0,0]"
   ]
  },
  {
   "cell_type": "code",
   "execution_count": null,
   "metadata": {},
   "outputs": [],
   "source": [
    "def move_zeros(array):\n",
    "    n, l = [], []\n",
    "    for i in range(len(array)):\n",
    "        if isinstance(array[i], (float, int)):\n",
    "            if array[i] == 0 and len(str(array[i])) < 4:\n",
    "                n.append(array[i])\n",
    "            else:\n",
    "                l.append(array[i])\n",
    "        else: \n",
    "            l.append(array[i])\n",
    "    return l + n"
   ]
  },
  {
   "cell_type": "markdown",
   "metadata": {},
   "source": [
    "### Extract the domain name from a URL [5]\n",
    "\n",
    "Write a function that when given a URL as a string, parses out just the domain name and returns it as a string. For example:\n",
    "\n",
    "domain_name(\"http://github.com/carbonfive/raygun\") => \"github\"  \n",
    "domain_name(\"http://www.zombie-bites.com\") => \"zombie-bites\"  \n",
    "domain_name(\"https://www.cnet.com\") => \"cnet\"  \n",
    "domain_name(\"http://google.com\") => \"google\"  \n",
    "domain_name(\"http://google.co.jp\") => \"google\"  \n",
    "domain_name(\"www.xakep.ru\") => \"xakep\""
   ]
  },
  {
   "cell_type": "code",
   "execution_count": null,
   "metadata": {},
   "outputs": [],
   "source": [
    "def domain_name(url):\n",
    "    for s in url.split('/'):\n",
    "        if s.find(\".\") > 0:\n",
    "            return s.split('.')[1] if s.split('.')[0] =='www' else s.split('.')[0] "
   ]
  },
  {
   "cell_type": "markdown",
   "metadata": {},
   "source": [
    "### Best travel [5]\n",
    "\n",
    "John and Mary want to travel between a few towns A, B, C ... Mary has on a sheet of paper a list of distances between these towns. ls = [50, 55, 57, 58, 60]. John is tired of driving and he says to Mary that he doesn't want to drive more than t = 174 miles and he will visit only 3 towns. Which distances, hence which towns, they will choose so that the sum of the distances is the biggest possible to please Mary and John?\n",
    "\n",
    "*Example:* With list ls and 3 towns to visit they can make a choice between: [50,55,57],[50,55,58],[50,55,60],[50,57,58],[50,57,60],[50,58,60],[55,57,58],[55,57,60],[55,58,60],[57,58,60].\n",
    "\n",
    "The sums of distances are then: 162, 163, 165, 165, 167, 168, 170, 172, 173, 175.\n",
    "\n",
    "The biggest possible sum taking a limit of 174 into account is then 173 and the distances of the 3 corresponding towns is [55, 58, 60].\n",
    "\n",
    "The function chooseBestSum (or choose_best_sum or ... depending on the language) will take as parameters t (maximum sum of distances, integer >= 0), k (number of towns to visit, k >= 1) and ls (list of distances, all distances are positive or null integers and this list has at least one element). The function returns the \"best\" sum ie the biggest possible sum of k distances less than or equal to the given limit t, if that sum exists, or otherwise null.\n",
    "\n",
    "*Examples:*\n",
    "ts = [50, 55, 56, 57, 58] choose_best_sum(163, 3, ts) -> 163  \n",
    "\n",
    "xs = [50] choose_best_sum(163, 3, xs) -> null  \n",
    "\n",
    "ys = [91, 74, 73, 85, 73, 81, 87] choose_best_sum(230, 3, ys) -> 228  \n",
    "\n",
    "Note: don't modify the input list ls"
   ]
  },
  {
   "cell_type": "code",
   "execution_count": null,
   "metadata": {},
   "outputs": [],
   "source": [
    "def choose_best_sum(t, k, ls):\n",
    "    from itertools import combinations\n",
    "    n = combinations(ls, k)\n",
    "    result = []\n",
    "    for el in n:\n",
    "        total = 0\n",
    "        for i in el:\n",
    "            total += i\n",
    "        if total <= t:  \n",
    "            result.append(total)\n",
    "    return sorted(result)[-1] if len(result) > 0 else None"
   ]
  },
  {
   "cell_type": "markdown",
   "metadata": {},
   "source": [
    "### The Hashtag Generator [5]\n",
    "\n",
    "The marketing team is spending way too much time typing in hashtags. Let's help them with our own Hashtag Generator!\n",
    "\n",
    "Here's the deal:\n",
    "\n",
    "- It must start with a hashtag (#).\n",
    "- All words must have their first letter capitalized.\n",
    "- If the final result is longer than 140 chars it must return false.\n",
    "- If the input or the result is an empty string it must return false. \n",
    "\n",
    "*Examples*  \n",
    "\" Hello there thanks for trying my Kata\"  =>  \"#HelloThereThanksForTryingMyKata\"  \n",
    "\"    Hello     World   \"                  =>  \"#HelloWorld\"  \n",
    "\"\"                                        =>  false  "
   ]
  },
  {
   "cell_type": "code",
   "execution_count": null,
   "metadata": {},
   "outputs": [],
   "source": [
    "def generate_hashtag(s):\n",
    "    if len(s) == 0 or len(s) > 140: \n",
    "        return False\n",
    "    return '#' + s.title().strip().replace(' ', '')"
   ]
  },
  {
   "cell_type": "markdown",
   "metadata": {},
   "source": [
    "### Maximum subarray sum [5]\n",
    "\n",
    "The maximum sum subarray problem consists in finding the maximum sum of a contiguous subsequence in an array or list of integers:\n",
    "\n",
    "max_sequence($[-2, 1, -3, 4, -1, 2, 1, -5, 4]$) should be $6$: [$4, -1, 2, 1]$  \n",
    "Easy case is when the list is made up of only positive numbers and the maximum sum is the sum of the whole array. If the list is made up of only negative numbers, return 0 instead.\n",
    "\n",
    "Empty list is considered to have zero greatest sum. Note that the empty list or array is also a valid sublist/subarray."
   ]
  },
  {
   "cell_type": "code",
   "execution_count": null,
   "metadata": {},
   "outputs": [],
   "source": [
    "def max_sequence(arr):\n",
    "    if len(arr) == 0: return 0\n",
    "    \n",
    "    while arr[0] < 1: \n",
    "        del arr[0]\n",
    "        if len(arr) == 0: return 0\n",
    "        \n",
    "    max, s = 0, 0\n",
    "    for i in range(len(arr)):\n",
    "        if arr[i] > 0: \n",
    "            start = i\n",
    "        else: continue\n",
    "        for j in range(start, len(arr)):\n",
    "            s += arr[j]\n",
    "            if s > max: max = s\n",
    "        start = 0\n",
    "        s = 0\n",
    "    return max"
   ]
  },
  {
   "cell_type": "markdown",
   "metadata": {},
   "source": [
    "### Human Readable Time [5]\n",
    "\n",
    "Write a function, which takes a non-negative integer (seconds) as input and returns the time in a human-readable format (HH:MM:SS)\n",
    "\n",
    "$HH$ = hours, padded to 2 digits, range: 00 - 99  \n",
    "$MM$ = minutes, padded to 2 digits, range: 00 - 59  \n",
    "$SS$ = seconds, padded to 2 digits, range: 00 - 59  \n",
    "The maximum time never exceeds 359999 (99:59:59)  \n",
    "\n",
    "You can find some examples in the test fixtures."
   ]
  },
  {
   "cell_type": "code",
   "execution_count": 1,
   "metadata": {},
   "outputs": [],
   "source": [
    "def make_readable(seconds):\n",
    "    return f'{str(seconds//3600).zfill(2)}:{str(seconds//60%60).zfill(2)}:{str(seconds%60).zfill(2)}'"
   ]
  },
  {
   "cell_type": "code",
   "execution_count": null,
   "metadata": {},
   "outputs": [],
   "source": []
  },
  {
   "cell_type": "code",
   "execution_count": null,
   "metadata": {},
   "outputs": [],
   "source": []
  }
 ],
 "metadata": {
  "kernelspec": {
   "display_name": "Python 3",
   "language": "python",
   "name": "python3"
  },
  "language_info": {
   "codemirror_mode": {
    "name": "ipython",
    "version": 3
   },
   "file_extension": ".py",
   "mimetype": "text/x-python",
   "name": "python",
   "nbconvert_exporter": "python",
   "pygments_lexer": "ipython3",
   "version": "3.8.3"
  }
 },
 "nbformat": 4,
 "nbformat_minor": 4
}
