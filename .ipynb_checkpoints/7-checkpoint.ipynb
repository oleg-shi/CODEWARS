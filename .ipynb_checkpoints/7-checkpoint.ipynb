{
 "cells": [
  {
   "cell_type": "markdown",
   "metadata": {},
   "source": [
    "### The Speed of Letters [7]\n",
    "\n",
    "Given a string as input, return a new string with each letter pushed to the right by its respective index in the alphabet.  \n",
    "\n",
    "We all know that **A** is a slow and **Z** is a fast letter. This means that **Z** gets shifted to the right by 25 spaces, **A** doesn't get shifted at all, and **B** gets shifted by 1 space.  \n",
    "\n",
    "You can assume the following things about your input:  \n",
    "\n",
    "It will only contain uppercase letters from **A** to **Z**, no whitespaces or punctuation;\n",
    "Input strings will not exceed 100 characters (although your output string might!)\n",
    "Note that if 2 or more letters fall onto the same space after shifting, the latest character will be used. For example: **\"BA\"** --> **\" A\"**"
   ]
  },
  {
   "cell_type": "code",
   "execution_count": null,
   "metadata": {},
   "outputs": [],
   "source": [
    "def speedify(st):\n",
    "    d = dict()\n",
    "    for i in range(len(st)):\n",
    "        d[ord(st[i])-64+i] = st[i]\n",
    "    if len(d) > 0:\n",
    "        result = [' '] * max(d.keys()) \n",
    "        for key, value in d.items(): \n",
    "            result[key-1] = value\n",
    "        return ''.join(result)\n",
    "    else: return ''"
   ]
  },
  {
   "cell_type": "markdown",
   "metadata": {},
   "source": [
    "### How many days are we represented in a foreign country? [7]\n",
    "\n",
    "How many days are we represented in a foreign country?\n",
    "\n",
    "My colleagues make business trips to a foreign country. We must find the number of days our company is represented in a country.   Every day that one or more colleagues are present in the country is a day that the company is represented. A single day cannot count for more than one day.\n",
    "\n",
    "Write a function that recieves a list of pairs and returns the number of days that the company is represented in the foreign country. The first number of the pair is the number of the day of arrival and the second number of the pair is the day of departure of someone who travels, i.e. 1 january is number 1 and 31 of december is 365.\n",
    "\n",
    "Example:\n",
    "days_represented([[10,17],[200,207]]) --> Returns 16 because there are two trips of 8 days, which add up to 16."
   ]
  },
  {
   "cell_type": "code",
   "execution_count": null,
   "metadata": {},
   "outputs": [],
   "source": [
    "def days_represented(trips):\n",
    "    result = 0\n",
    "    top = 0\n",
    "    for pairs in sorted(trips):     \n",
    "        if pairs[1] > top:\n",
    "            if pairs[0]  > top: result += pairs[1] - pairs[0] + 1 \n",
    "            if pairs[0] == top: result += pairs[1] - pairs[0]\n",
    "            if pairs[0]  < top: result += pairs[1] - top\n",
    "            top = pairs[1]\n",
    "    return result"
   ]
  },
  {
   "cell_type": "markdown",
   "metadata": {},
   "source": [
    "### Char Code Calculation [7]\n",
    "\n",
    "Given a string, turn each character into its ASCII character code and join them together to create a number - let's call this number total1:   \n",
    "'ABC' --> 'A' = 65, 'B' = 66, 'C' = 67 --> 656667  \n",
    "Then replace any incidence of the number 7 with the number 1, and call this number 'total2':\n",
    "\n",
    "$total1 = 656667$\n",
    "              \n",
    "$total2 = 656661$\n",
    "              \n",
    "Then return the difference between the sum of the digits in total1 and total2:\n",
    "\n",
    "$(6 + 5 + 6 + 6 + 6 + 7) - (6 + 5 + 6 + 6 + 6 + 1) = 6$"
   ]
  },
  {
   "cell_type": "code",
   "execution_count": null,
   "metadata": {},
   "outputs": [],
   "source": [
    "def calc(x):\n",
    "    total = ''\n",
    "    for c in x: total += str(ord(c))\n",
    "    return int(total.count('7'))*6"
   ]
  },
  {
   "cell_type": "markdown",
   "metadata": {},
   "source": [
    "### Number to digit tiers [7]\n",
    "\n",
    "Create a function that takes a number and returns an array of strings containing the number cut off at each digit.\n",
    "\n",
    "Examples:  \n",
    "420 should return [\"4\", \"42\", \"420\"]  \n",
    "2017 should return [\"2\", \"20\", \"201\", \"2017\"]  \n",
    "2010 should return [\"2\", \"20\", \"201\", \"2010\"]  \n",
    "4020 should return [\"4\", \"40\", \"402\", \"4020\"]  \n",
    "80200 should return [\"8\", \"80\", \"802\", \"8020\", \"80200\"]  \n",
    "PS: The input is guaranteed to be an integer in the range [0, 1000000]"
   ]
  },
  {
   "cell_type": "code",
   "execution_count": null,
   "metadata": {},
   "outputs": [],
   "source": [
    "def create_array_of_tiers(n):\n",
    "    N = str(n)\n",
    "    return [N[0:i] for i  in range(1, len(N)+1)]"
   ]
  }
 ],
 "metadata": {
  "kernelspec": {
   "display_name": "Python 3",
   "language": "python",
   "name": "python3"
  },
  "language_info": {
   "codemirror_mode": {
    "name": "ipython",
    "version": 3
   },
   "file_extension": ".py",
   "mimetype": "text/x-python",
   "name": "python",
   "nbconvert_exporter": "python",
   "pygments_lexer": "ipython3",
   "version": "3.8.3"
  }
 },
 "nbformat": 4,
 "nbformat_minor": 4
}
