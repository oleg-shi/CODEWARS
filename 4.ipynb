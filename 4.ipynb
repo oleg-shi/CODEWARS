{
 "cells": [
  {
   "cell_type": "markdown",
   "metadata": {},
   "source": [
    "### Snail [4]\n",
    "\n",
    "Given an n x n array, return the array elements arranged from outermost elements to the middle element, traveling clockwise.\n",
    "\n",
    "array = [[1,2,3],\n",
    "         [4,5,6],\n",
    "         [7,8,9]]   ...  snail(array) #=> [1,2,3,6,9,8,7,4,5]  \n",
    "\n",
    "\n",
    "For better understanding, please follow the numbers of the next array consecutively: array = [[1,2,3],\n",
    "         [8,9,4],\n",
    "         [7,6,5]] ... snail(array) #=> [1,2,3,4,5,6,7,8,9]  \n",
    "This image will illustrate things more clearly: ![alt text](snail.png \"Title\")\n",
    "\n",
    "NOTE: The idea is not sort the elements from the lowest value to the highest; the idea is to traverse the 2-d array in a clockwise snailshell pattern.\n",
    "\n",
    "NOTE 2: The 0x0 (empty matrix) is represented as en empty array inside an array [[]]."
   ]
  },
  {
   "cell_type": "code",
   "execution_count": null,
   "metadata": {},
   "outputs": [],
   "source": [
    "def snail(sm):\n",
    "    import numpy as np\n",
    "    result = []\n",
    "    while len(sm) != 0:                    # while there are elements in the matrix, repeat\n",
    "        result.extend(sm[0])               # add the \"top\" row of the matrix to the result\n",
    "        sm = np.delete(sm, 0, axis = 0)    # delete this row\n",
    "        sm = np.rot90(sm)                  # rotate the remaining matrix 90 degrees counterclockwise\n",
    "    return result"
   ]
  },
  {
   "cell_type": "markdown",
   "metadata": {},
   "source": [
    "### Human readable duration format [4]\n",
    "\n",
    "Your task in order to complete this Kata is to write a function which formats a duration, given as a number of seconds, in a human-friendly way.\n",
    "\n",
    "The function must accept a non-negative integer. If it is zero, it just returns \"now\". Otherwise, the duration is expressed as a combination of years, days, hours, minutes and seconds.\n",
    "\n",
    "It is much easier to understand with an example:  \n",
    "\n",
    "format_duration(62)     # returns \"1 minute and 2 seconds\"  \n",
    "format_duration(3662)   # returns \"1 hour, 1 minute and 2 seconds\" \n",
    "\n",
    "For the purpose of this Kata, a year is 365 days and a day is 24 hours.\n",
    "\n",
    "Note that spaces are important.\n",
    "\n",
    "Detailed rules\n",
    "The resulting expression is made of components like 4 seconds, 1 year, etc. In general, a positive integer and one of the valid units of time, separated by a space. The unit of time is used in plural if the integer is greater than 1.\n",
    "\n",
    "The components are separated by a comma and a space (\", \"). Except the last component, which is separated by \" and \", just like it would be written in English.\n",
    "\n",
    "A more significant units of time will occur before than a least significant one. Therefore, 1 second and 1 year is not correct, but 1 year and 1 second is.\n",
    "\n",
    "Different components have different unit of times. So there is not repeated units like in 5 seconds and 1 second.\n",
    "\n",
    "A component will not appear at all if its value happens to be zero. Hence, 1 minute and 0 seconds is not valid, but it should be just 1 minute.\n",
    "\n",
    "A unit of time must be used \"as much as possible\". It means that the function should not return 61 seconds, but 1 minute and 1 second instead. Formally, the duration specified by of a component must not be greater than any valid more significant unit of time."
   ]
  },
  {
   "cell_type": "code",
   "execution_count": null,
   "metadata": {},
   "outputs": [],
   "source": [
    "def format_duration(seconds):\n",
    "    if seconds == 0: return 'now'\n",
    "    \n",
    "    y = seconds // 31536000\n",
    "    Y = (str(y) + ' year ' * (y == 1) + ' years ' * (y != 1)) * (y != 0)\n",
    "    d = seconds // 86400 % 365\n",
    "    D = (str(d) + ' day ' * (d == 1) + ' days ' * (d != 1)) * (d != 0)\n",
    "    h = seconds // 3600 % 24\n",
    "    H = (str(h) + ' hour ' * (h == 1) + ' hours ' * (h != 1)) * (h != 0)\n",
    "    m = seconds // 60 % 60\n",
    "    M = (str(m) + ' minute ' * (m == 1) + ' minutes ' * (m != 1)) * (m != 0)\n",
    "    s = seconds % 60\n",
    "    S = (str(s) + ' second' * (s == 1) + ' seconds' * (s != 1)) * (s != 0)\n",
    "    \n",
    "    total = (y != 0) + (d != 0) + (h != 0) + (m != 0) + (s != 0)\n",
    "    data = Y + D + H + M + S\n",
    "    dl = data.split()\n",
    "    \n",
    "    if total == 1: \n",
    "        return data.strip()\n",
    "    if total == 2: \n",
    "        dl.insert(2, 'and')\n",
    "        return ' '.join(dl).strip()\n",
    "    if total > 2: \n",
    "        dl.insert(-2, 'and')\n",
    "        for i in range(-5, -len(dl)-1, -3): dl.insert(i, ',')\n",
    "        return ' '.join(dl).replace(' ,', ',').strip()"
   ]
  }
 ],
 "metadata": {
  "kernelspec": {
   "display_name": "Python 3",
   "language": "python",
   "name": "python3"
  },
  "language_info": {
   "codemirror_mode": {
    "name": "ipython",
    "version": 3
   },
   "file_extension": ".py",
   "mimetype": "text/x-python",
   "name": "python",
   "nbconvert_exporter": "python",
   "pygments_lexer": "ipython3",
   "version": "3.8.3"
  }
 },
 "nbformat": 4,
 "nbformat_minor": 4
}
