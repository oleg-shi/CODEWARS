{
 "cells": [
  {
   "cell_type": "markdown",
   "metadata": {},
   "source": [
    "### Find The Parity Outlier [6]\n",
    "You are given an array (which will have a length of at least 3, but could be very large) containing integers. The array is either entirely comprised of odd integers or entirely comprised of even integers except for a single integer N. Write a method that takes the array as an argument and returns this \"outlier\" N.\n",
    "\n",
    "[2, 4, 0, 100, 4, 11, 2602, 36]\n",
    "Should return: **11** (the only odd number)\n",
    "\n",
    "[160, 3, 1719, 19, 11, 13, -21]\n",
    "Should return: **160** (the only even number)"
   ]
  },
  {
   "cell_type": "code",
   "execution_count": null,
   "metadata": {},
   "outputs": [],
   "source": [
    "def find_outlier(integers):\n",
    "    if (integers[0] % 2 + integers[1] % 2 + integers[2] % 2) < 2: f = 0\n",
    "    if (integers[0] % 2 + integers[1] % 2 + integers[2] % 2) > 1: f = 1  \n",
    "    for i in range(len(integers)):\n",
    "        if (f == 0 and integers[i] % 2 != 0) or (f == 1 and integers[i] % 2 == 0):\n",
    "            return integers[i]"
   ]
  },
  {
   "cell_type": "markdown",
   "metadata": {},
   "source": [
    "### Build a pile of Cubes [6]\n",
    "\n",
    "Your task is to construct a building which will be a pile of $n$ cubes. The cube at the bottom will have a volume of $n^3$, the cube above will have volume of $(n-1)^3$ and so on until the top which will have a volume of $1^3$.\n",
    "\n",
    "You are given the total volume m of the building. Being given m can you find the number n of cubes you will have to build?\n",
    "\n",
    "The parameter of the function **find_nb** will be an integer m and you have to return the integer n such as $n^3 + (n-1)^3 + ... + 1^3 = m$,  \n",
    "if such a n exists or -1 if there is no such $n$."
   ]
  },
  {
   "cell_type": "code",
   "execution_count": null,
   "metadata": {},
   "outputs": [],
   "source": [
    "def find_nb(m):\n",
    "    n = 0\n",
    "    while m != 0:\n",
    "        n += 1\n",
    "        m -= n**3\n",
    "        if m < 0: return -1\n",
    "    return n  "
   ]
  },
  {
   "cell_type": "markdown",
   "metadata": {},
   "source": [
    "### Persistent Bugger [6]\n",
    "\n",
    "Write a function, **persistence**, that takes in a positive parameter num and returns its multiplicative persistence, which is the number of times you must multiply the digits in num until you reach a single digit.\n",
    "\n",
    "persistence(39)  => **3**   #  Because 3$*$9 = 27, 2$*$7 = 14, 1$*$4=4,  and 4 has only one digit                \n",
    "persistence(999) => **4**   #  Because 9$*$9$*$9 = 729, 7$*$2$*$9 = 126, 1$*$2$*$6 = 12,  and finally 1$*$2 = 2             \n",
    "persistence(4)   => **0**   #  Because 4 is already a one-digit number.                                          "
   ]
  },
  {
   "cell_type": "code",
   "execution_count": null,
   "metadata": {},
   "outputs": [],
   "source": [
    "def persistence(n):\n",
    "    total = 1\n",
    "    count = 0\n",
    "    while n > 9:  \n",
    "        while n != 0:\n",
    "            total *= n % 10\n",
    "            n //= 10\n",
    "        n, total = total, 1\n",
    "        count += 1\n",
    "    return count"
   ]
  },
  {
   "cell_type": "markdown",
   "metadata": {},
   "source": [
    "### Moving Zeros To The End [5]\n",
    "\n",
    "Write an algorithm that takes an array and moves all of the zeros to the end, preserving the order of the other elements.\n",
    "\n",
    "move_zeros([False,1,0,1,2,0,1,3,\"a\"])    # returns[False,1,1,2,1,3,\"a\",0,0]"
   ]
  },
  {
   "cell_type": "code",
   "execution_count": null,
   "metadata": {},
   "outputs": [],
   "source": [
    "def move_zeros(array):\n",
    "    n, l = [], []\n",
    "    for i in range(len(array)):\n",
    "        if isinstance(array[i], (float, int)):\n",
    "            if array[i] == 0 and len(str(array[i])) < 4:\n",
    "                n.append(array[i])\n",
    "            else:\n",
    "                l.append(array[i])\n",
    "        else: \n",
    "            l.append(array[i])\n",
    "    return l + n"
   ]
  },
  {
   "cell_type": "code",
   "execution_count": null,
   "metadata": {},
   "outputs": [],
   "source": []
  },
  {
   "cell_type": "markdown",
   "metadata": {},
   "source": [
    "### Is a number prime? [6]\n",
    "\n",
    "Define a function that takes one integer argument and returns logical value true or false depending on if the integer is a prime (per Wikipedia, a prime number (or a prime) is a natural number greater than 1 that has no positive divisors other than 1 and itself)\n",
    "\n",
    "Requirements\n",
    "You can assume you will be given an integer input.\n",
    "You can not assume that the integer will be only positive. You may be given negative numbers as well (or 0).\n",
    "NOTE on performance: There are no fancy optimizations required, but still the most trivial solutions might time out. Numbers go up to 2^31 (or similar, depends on language version). Looping all the way up to n, or n/2, will be too slow."
   ]
  },
  {
   "cell_type": "code",
   "execution_count": null,
   "metadata": {},
   "outputs": [],
   "source": [
    "def is_prime(num):\n",
    "    f = 1\n",
    "    if num <= 0: return False\n",
    "    for i in range(2, int(num ** 0.5) + 1):\n",
    "        if num % i == 0: f = 0\n",
    "    return num > 1 and f == 1\n",
    "\n",
    "print(is_prime(0))"
   ]
  },
  {
   "cell_type": "markdown",
   "metadata": {},
   "source": [
    "### Highest Scoring Word [6]\n",
    "\n",
    "Given a string of words, you need to find the highest scoring word. Each letter of a word scores points according to its position in the alphabet: a = 1, b = 2, c = 3 etc.  \n",
    "You need to return the highest scoring word as a string.\n",
    "If two words score the same, return the word that appears earliest in the original string. All letters will be lowercase."
   ]
  },
  {
   "cell_type": "code",
   "execution_count": null,
   "metadata": {},
   "outputs": [],
   "source": [
    "def high(x):\n",
    "    cur, total, result = 0, 0, ''\n",
    "    for word in x.split():\n",
    "        for c in word:\n",
    "            cur += (ord(c) - 96)  \n",
    "        if cur > total:\n",
    "            total = cur\n",
    "            result = word\n",
    "        cur = 0\n",
    "    return result"
   ]
  },
  {
   "cell_type": "markdown",
   "metadata": {},
   "source": [
    "### Extract the domain name from a URL [5]\n",
    "\n",
    "Write a function that when given a URL as a string, parses out just the domain name and returns it as a string. For example:\n",
    "\n",
    "domain_name(\"http://github.com/carbonfive/raygun\") => \"github\"  \n",
    "domain_name(\"http://www.zombie-bites.com\") => \"zombie-bites\"  \n",
    "domain_name(\"https://www.cnet.com\") => \"cnet\"  \n",
    "domain_name(\"http://google.com\") => \"google\"  \n",
    "domain_name(\"http://google.co.jp\") => \"google\"  \n",
    "domain_name(\"www.xakep.ru\") => \"xakep\""
   ]
  },
  {
   "cell_type": "code",
   "execution_count": null,
   "metadata": {},
   "outputs": [],
   "source": [
    "def domain_name(url):\n",
    "    for s in url.split('/'):\n",
    "        if s.find(\".\") > 0:\n",
    "            return s.split('.')[1] if s.split('.')[0] =='www' else s.split('.')[0] "
   ]
  },
  {
   "cell_type": "markdown",
   "metadata": {},
   "source": [
    "### Best travel [5]\n",
    "\n",
    "John and Mary want to travel between a few towns A, B, C ... Mary has on a sheet of paper a list of distances between these towns. ls = [50, 55, 57, 58, 60]. John is tired of driving and he says to Mary that he doesn't want to drive more than t = 174 miles and he will visit only 3 towns. Which distances, hence which towns, they will choose so that the sum of the distances is the biggest possible to please Mary and John?\n",
    "\n",
    "*Example:* With list ls and 3 towns to visit they can make a choice between: [50,55,57],[50,55,58],[50,55,60],[50,57,58],[50,57,60],[50,58,60],[55,57,58],[55,57,60],[55,58,60],[57,58,60].\n",
    "\n",
    "The sums of distances are then: 162, 163, 165, 165, 167, 168, 170, 172, 173, 175.\n",
    "\n",
    "The biggest possible sum taking a limit of 174 into account is then 173 and the distances of the 3 corresponding towns is [55, 58, 60].\n",
    "\n",
    "The function chooseBestSum (or choose_best_sum or ... depending on the language) will take as parameters t (maximum sum of distances, integer >= 0), k (number of towns to visit, k >= 1) and ls (list of distances, all distances are positive or null integers and this list has at least one element). The function returns the \"best\" sum ie the biggest possible sum of k distances less than or equal to the given limit t, if that sum exists, or otherwise null.\n",
    "\n",
    "*Examples:*\n",
    "ts = [50, 55, 56, 57, 58] choose_best_sum(163, 3, ts) -> 163  \n",
    "\n",
    "xs = [50] choose_best_sum(163, 3, xs) -> null  \n",
    "\n",
    "ys = [91, 74, 73, 85, 73, 81, 87] choose_best_sum(230, 3, ys) -> 228  \n",
    "\n",
    "Note: don't modify the input list ls"
   ]
  },
  {
   "cell_type": "code",
   "execution_count": null,
   "metadata": {},
   "outputs": [],
   "source": [
    "def choose_best_sum(t, k, ls):\n",
    "    from itertools import combinations\n",
    "    n = combinations(ls, k)\n",
    "    result = []\n",
    "    for el in n:\n",
    "        total = 0\n",
    "        for i in el:\n",
    "            total += i\n",
    "        if total <= t:  \n",
    "            result.append(total)\n",
    "    return sorted(result)[-1] if len(result) > 0 else None"
   ]
  },
  {
   "cell_type": "markdown",
   "metadata": {},
   "source": [
    "### The Speed of Letters [7]\n",
    "\n",
    "Given a string as input, return a new string with each letter pushed to the right by its respective index in the alphabet.  \n",
    "\n",
    "We all know that **A** is a slow and **Z** is a fast letter. This means that **Z** gets shifted to the right by 25 spaces, **A** doesn't get shifted at all, and **B** gets shifted by 1 space.  \n",
    "\n",
    "You can assume the following things about your input:  \n",
    "\n",
    "It will only contain uppercase letters from **A** to **Z**, no whitespaces or punctuation;\n",
    "Input strings will not exceed 100 characters (although your output string might!)\n",
    "Note that if 2 or more letters fall onto the same space after shifting, the latest character will be used. For example: **\"BA\"** --> **\" A\"**"
   ]
  },
  {
   "cell_type": "code",
   "execution_count": null,
   "metadata": {},
   "outputs": [],
   "source": [
    "def speedify(st):\n",
    "    d = dict()\n",
    "    for i in range(len(st)):\n",
    "        d[ord(st[i])-64+i] = st[i]\n",
    "    if len(d) > 0:\n",
    "        result = [' '] * max(d.keys()) \n",
    "        for key, value in d.items(): \n",
    "            result[key-1] = value\n",
    "        return ''.join(result)\n",
    "    else: return ''"
   ]
  },
  {
   "cell_type": "markdown",
   "metadata": {},
   "source": [
    "### How many days are we represented in a foreign country? [7]\n",
    "\n",
    "How many days are we represented in a foreign country?\n",
    "\n",
    "My colleagues make business trips to a foreign country. We must find the number of days our company is represented in a country.   Every day that one or more colleagues are present in the country is a day that the company is represented. A single day cannot count for more than one day.\n",
    "\n",
    "Write a function that recieves a list of pairs and returns the number of days that the company is represented in the foreign country. The first number of the pair is the number of the day of arrival and the second number of the pair is the day of departure of someone who travels, i.e. 1 january is number 1 and 31 of december is 365.\n",
    "\n",
    "Example:\n",
    "days_represented([[10,17],[200,207]]) --> Returns 16 because there are two trips of 8 days, which add up to 16."
   ]
  },
  {
   "cell_type": "code",
   "execution_count": null,
   "metadata": {},
   "outputs": [],
   "source": [
    "def days_represented(trips):\n",
    "    result = 0\n",
    "    top = 0\n",
    "    for pairs in sorted(trips):     \n",
    "        if pairs[1] > top:\n",
    "            if pairs[0]  > top: result += pairs[1] - pairs[0] + 1 \n",
    "            if pairs[0] == top: result += pairs[1] - pairs[0]\n",
    "            if pairs[0]  < top: result += pairs[1] - top\n",
    "            top = pairs[1]\n",
    "    return result"
   ]
  },
  {
   "attachments": {
    "image.png": {
     "image/png": "[encoded data removed]"
    }
   },
   "cell_type": "markdown",
   "metadata": {},
   "source": [
    "### Snail [4]\n",
    "\n",
    "Given an n x n array, return the array elements arranged from outermost elements to the middle element, traveling clockwise.\n",
    "\n",
    "array = [[1,2,3],\n",
    "         [4,5,6],\n",
    "         [7,8,9]]   ...  snail(array) #=> [1,2,3,6,9,8,7,4,5]  \n",
    "\n",
    "\n",
    "For better understanding, please follow the numbers of the next array consecutively: array = [[1,2,3],\n",
    "         [8,9,4],\n",
    "         [7,6,5]] ... snail(array) #=> [1,2,3,4,5,6,7,8,9]  \n",
    "This image will illustrate things more clearly: ![image.png](attachment:image.png)\n",
    "\n",
    "NOTE: The idea is not sort the elements from the lowest value to the highest; the idea is to traverse the 2-d array in a clockwise snailshell pattern.\n",
    "\n",
    "NOTE 2: The 0x0 (empty matrix) is represented as en empty array inside an array [[]]."
   ]
  },
  {
   "cell_type": "code",
   "execution_count": null,
   "metadata": {},
   "outputs": [],
   "source": [
    "def snail(sm):\n",
    "    import numpy as np\n",
    "    result = []\n",
    "    while len(sm) != 0:                    # while there are elements in the matrix, repeat\n",
    "        result.extend(sm[0])               # add the \"top\" row of the matrix to the result\n",
    "        sm = np.delete(sm, 0, axis = 0)    # delete this row\n",
    "        sm = np.rot90(sm)                  # rotate the remaining matrix 90 degrees counterclockwise\n",
    "    return result"
   ]
  },
  {
   "cell_type": "markdown",
   "metadata": {},
   "source": [
    "### The Hashtag Generator [5]\n",
    "\n",
    "The marketing team is spending way too much time typing in hashtags. Let's help them with our own Hashtag Generator!\n",
    "\n",
    "Here's the deal:\n",
    "\n",
    "- It must start with a hashtag (#).\n",
    "- All words must have their first letter capitalized.\n",
    "- If the final result is longer than 140 chars it must return false.\n",
    "- If the input or the result is an empty string it must return false. \n",
    "\n",
    "*Examples*  \n",
    "\" Hello there thanks for trying my Kata\"  =>  \"#HelloThereThanksForTryingMyKata\"  \n",
    "\"    Hello     World   \"                  =>  \"#HelloWorld\"  \n",
    "\"\"                                        =>  false  "
   ]
  },
  {
   "cell_type": "code",
   "execution_count": 1,
   "metadata": {},
   "outputs": [],
   "source": [
    "def generate_hashtag(s):\n",
    "    if len(s) == 0 or len(s) > 140: \n",
    "        return False\n",
    "    return '#' + s.title().strip().replace(' ', '')"
   ]
  },
  {
   "cell_type": "markdown",
   "metadata": {},
   "source": [
    "### Char Code Calculation [7]\n",
    "\n",
    "Given a string, turn each character into its ASCII character code and join them together to create a number - let's call this number total1:   \n",
    "'ABC' --> 'A' = 65, 'B' = 66, 'C' = 67 --> 656667  \n",
    "Then replace any incidence of the number 7 with the number 1, and call this number 'total2':\n",
    "\n",
    "$total1 = 656667$\n",
    "              \n",
    "$total2 = 656661$\n",
    "              \n",
    "Then return the difference between the sum of the digits in total1 and total2:\n",
    "\n",
    "$(6 + 5 + 6 + 6 + 6 + 7) - (6 + 5 + 6 + 6 + 6 + 1) = 6$"
   ]
  },
  {
   "cell_type": "code",
   "execution_count": null,
   "metadata": {},
   "outputs": [],
   "source": [
    "def calc(x):\n",
    "    total = ''\n",
    "    for c in x: total += str(ord(c))\n",
    "    return int(total.count('7'))*6"
   ]
  },
  {
   "cell_type": "markdown",
   "metadata": {},
   "source": [
    "### Find the odd int [6]\n",
    "\n",
    "Given an array of integers, find the one that appears an odd number of times.\n",
    "\n",
    "There will always be only one integer that appears an odd number of times."
   ]
  },
  {
   "cell_type": "code",
   "execution_count": null,
   "metadata": {},
   "outputs": [],
   "source": [
    "def find_it(seq):\n",
    "    for i in seq:\n",
    "        if seq.count(i) % 2 != 0: \n",
    "            return i"
   ]
  },
  {
   "cell_type": "markdown",
   "metadata": {},
   "source": [
    "### Number to digit tiers [7]\n",
    "\n",
    "Create a function that takes a number and returns an array of strings containing the number cut off at each digit.\n",
    "\n",
    "Examples:  \n",
    "420 should return [\"4\", \"42\", \"420\"]  \n",
    "2017 should return [\"2\", \"20\", \"201\", \"2017\"]  \n",
    "2010 should return [\"2\", \"20\", \"201\", \"2010\"]  \n",
    "4020 should return [\"4\", \"40\", \"402\", \"4020\"]  \n",
    "80200 should return [\"8\", \"80\", \"802\", \"8020\", \"80200\"]  \n",
    "PS: The input is guaranteed to be an integer in the range [0, 1000000]"
   ]
  },
  {
   "cell_type": "code",
   "execution_count": null,
   "metadata": {},
   "outputs": [],
   "source": [
    "def create_array_of_tiers(n):\n",
    "    N = str(n)\n",
    "    return [N[0:i] for i  in range(1, len(N)+1)]"
   ]
  },
  {
   "cell_type": "markdown",
   "metadata": {},
   "source": [
    "### Maximum subarray sum [5]\n",
    "\n",
    "The maximum sum subarray problem consists in finding the maximum sum of a contiguous subsequence in an array or list of integers:\n",
    "\n",
    "max_sequence($[-2, 1, -3, 4, -1, 2, 1, -5, 4]$) should be $6$: [$4, -1, 2, 1]$  \n",
    "Easy case is when the list is made up of only positive numbers and the maximum sum is the sum of the whole array. If the list is made up of only negative numbers, return 0 instead.\n",
    "\n",
    "Empty list is considered to have zero greatest sum. Note that the empty list or array is also a valid sublist/subarray."
   ]
  },
  {
   "cell_type": "code",
   "execution_count": null,
   "metadata": {},
   "outputs": [],
   "source": [
    "def max_sequence(arr):\n",
    "    if len(arr) == 0: return 0\n",
    "    \n",
    "    while arr[0] < 1: \n",
    "        del arr[0]\n",
    "        if len(arr) == 0: return 0\n",
    "        \n",
    "    max, s = 0, 0\n",
    "    for i in range(len(arr)):\n",
    "        if arr[i] > 0: \n",
    "            start = i\n",
    "        else: continue\n",
    "        for j in range(start, len(arr)):\n",
    "            s += arr[j]\n",
    "            if s > max: max = s\n",
    "        start = 0\n",
    "        s = 0\n",
    "    return max"
   ]
  },
  {
   "cell_type": "markdown",
   "metadata": {},
   "source": [
    "### Stop gninnipS My sdroW! [6]\n",
    "\n",
    "Write a function that takes in a string of one or more words, and returns the same string, but with all five or more letter words reversed (Just like the name of this Kata). Strings passed in will consist of only letters and spaces. Spaces will be included only when more than one word is present.\n",
    "\n",
    "Examples: spin_words( \"Hey fellow warriors\" ) => returns \"Hey wollef sroirraw\"   \n",
    "spin_words( \"This is a test\") => returns \"This is a test\"   \n",
    "spin_words( \"This is another test\" )=> returns \"This is rehtona test\""
   ]
  },
  {
   "cell_type": "code",
   "execution_count": null,
   "metadata": {},
   "outputs": [],
   "source": [
    "def spin_words(sentence):\n",
    "    return ' '.join([x[::-1] if len(x) > 4 else x  for x in sentence.split()])"
   ]
  }
 ],
 "metadata": {
  "kernelspec": {
   "display_name": "Python 3",
   "language": "python",
   "name": "python3"
  },
  "language_info": {
   "codemirror_mode": {
    "name": "ipython",
    "version": 3
   },
   "file_extension": ".py",
   "mimetype": "text/x-python",
   "name": "python",
   "nbconvert_exporter": "python",
   "pygments_lexer": "ipython3",
   "version": "3.8.3"
  }
 },
 "nbformat": 4,
 "nbformat_minor": 4
}
